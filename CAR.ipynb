{
 "cells": [
  {
   "cell_type": "markdown",
   "metadata": {},
   "source": [
    ">### Regretion\n",
    " analysis and predecting | USA_cars_datasets[1].csv |"
   ]
  },
  {
   "cell_type": "code",
   "execution_count": 1,
   "metadata": {},
   "outputs": [],
   "source": [
    "# IMPORT LIBS\n",
    "#============\n",
    "import pandas as pd\n",
    "import numpy as np\n",
    "import matplotlib.pyplot as plt\n",
    "import matplotlib as mpl\n",
    "import seaborn as sns\n",
    "import sklearn\n",
    "from sklearn.model_selection import train_test_split\n",
    "from sklearn.neighbors import KNeighborsRegressor"
   ]
  },
  {
   "cell_type": "markdown",
   "metadata": {},
   "source": [
    ">### read data , Drop unnecessary columns , add  m/y to columns data"
   ]
  },
  {
   "cell_type": "code",
   "execution_count": 170,
   "metadata": {},
   "outputs": [
    {
     "data": {
      "text/html": [
       "<div>\n",
       "<style scoped>\n",
       "    .dataframe tbody tr th:only-of-type {\n",
       "        vertical-align: middle;\n",
       "    }\n",
       "\n",
       "    .dataframe tbody tr th {\n",
       "        vertical-align: top;\n",
       "    }\n",
       "\n",
       "    .dataframe thead th {\n",
       "        text-align: right;\n",
       "    }\n",
       "</style>\n",
       "<table border=\"1\" class=\"dataframe\">\n",
       "  <thead>\n",
       "    <tr style=\"text-align: right;\">\n",
       "      <th></th>\n",
       "      <th>price</th>\n",
       "      <th>brand</th>\n",
       "      <th>model</th>\n",
       "      <th>year</th>\n",
       "      <th>title_status</th>\n",
       "      <th>mileage</th>\n",
       "      <th>color</th>\n",
       "      <th>state</th>\n",
       "      <th>condition</th>\n",
       "      <th>m/y</th>\n",
       "    </tr>\n",
       "  </thead>\n",
       "  <tbody>\n",
       "    <tr>\n",
       "      <th>0</th>\n",
       "      <td>6300</td>\n",
       "      <td>toyota</td>\n",
       "      <td>cruiser</td>\n",
       "      <td>2008</td>\n",
       "      <td>clean vehicle</td>\n",
       "      <td>274117.0</td>\n",
       "      <td>black</td>\n",
       "      <td>new jersey</td>\n",
       "      <td>10 days left</td>\n",
       "      <td>136.512450</td>\n",
       "    </tr>\n",
       "    <tr>\n",
       "      <th>1</th>\n",
       "      <td>2899</td>\n",
       "      <td>ford</td>\n",
       "      <td>se</td>\n",
       "      <td>2011</td>\n",
       "      <td>clean vehicle</td>\n",
       "      <td>190552.0</td>\n",
       "      <td>silver</td>\n",
       "      <td>tennessee</td>\n",
       "      <td>6 days left</td>\n",
       "      <td>94.754848</td>\n",
       "    </tr>\n",
       "    <tr>\n",
       "      <th>2</th>\n",
       "      <td>5350</td>\n",
       "      <td>dodge</td>\n",
       "      <td>mpv</td>\n",
       "      <td>2018</td>\n",
       "      <td>clean vehicle</td>\n",
       "      <td>39590.0</td>\n",
       "      <td>silver</td>\n",
       "      <td>georgia</td>\n",
       "      <td>2 days left</td>\n",
       "      <td>19.618434</td>\n",
       "    </tr>\n",
       "    <tr>\n",
       "      <th>3</th>\n",
       "      <td>25000</td>\n",
       "      <td>ford</td>\n",
       "      <td>door</td>\n",
       "      <td>2014</td>\n",
       "      <td>clean vehicle</td>\n",
       "      <td>64146.0</td>\n",
       "      <td>blue</td>\n",
       "      <td>virginia</td>\n",
       "      <td>22 hours left</td>\n",
       "      <td>31.850050</td>\n",
       "    </tr>\n",
       "    <tr>\n",
       "      <th>4</th>\n",
       "      <td>27700</td>\n",
       "      <td>chevrolet</td>\n",
       "      <td>1500</td>\n",
       "      <td>2018</td>\n",
       "      <td>clean vehicle</td>\n",
       "      <td>6654.0</td>\n",
       "      <td>red</td>\n",
       "      <td>florida</td>\n",
       "      <td>22 hours left</td>\n",
       "      <td>3.297324</td>\n",
       "    </tr>\n",
       "    <tr>\n",
       "      <th>...</th>\n",
       "      <td>...</td>\n",
       "      <td>...</td>\n",
       "      <td>...</td>\n",
       "      <td>...</td>\n",
       "      <td>...</td>\n",
       "      <td>...</td>\n",
       "      <td>...</td>\n",
       "      <td>...</td>\n",
       "      <td>...</td>\n",
       "      <td>...</td>\n",
       "    </tr>\n",
       "    <tr>\n",
       "      <th>2494</th>\n",
       "      <td>7800</td>\n",
       "      <td>nissan</td>\n",
       "      <td>versa</td>\n",
       "      <td>2019</td>\n",
       "      <td>clean vehicle</td>\n",
       "      <td>23609.0</td>\n",
       "      <td>red</td>\n",
       "      <td>california</td>\n",
       "      <td>1 days left</td>\n",
       "      <td>11.693413</td>\n",
       "    </tr>\n",
       "    <tr>\n",
       "      <th>2495</th>\n",
       "      <td>9200</td>\n",
       "      <td>nissan</td>\n",
       "      <td>versa</td>\n",
       "      <td>2018</td>\n",
       "      <td>clean vehicle</td>\n",
       "      <td>34553.0</td>\n",
       "      <td>silver</td>\n",
       "      <td>florida</td>\n",
       "      <td>21 hours left</td>\n",
       "      <td>17.122398</td>\n",
       "    </tr>\n",
       "    <tr>\n",
       "      <th>2496</th>\n",
       "      <td>9200</td>\n",
       "      <td>nissan</td>\n",
       "      <td>versa</td>\n",
       "      <td>2018</td>\n",
       "      <td>clean vehicle</td>\n",
       "      <td>31594.0</td>\n",
       "      <td>silver</td>\n",
       "      <td>florida</td>\n",
       "      <td>21 hours left</td>\n",
       "      <td>15.656095</td>\n",
       "    </tr>\n",
       "    <tr>\n",
       "      <th>2497</th>\n",
       "      <td>9200</td>\n",
       "      <td>nissan</td>\n",
       "      <td>versa</td>\n",
       "      <td>2018</td>\n",
       "      <td>clean vehicle</td>\n",
       "      <td>32557.0</td>\n",
       "      <td>black</td>\n",
       "      <td>florida</td>\n",
       "      <td>2 days left</td>\n",
       "      <td>16.133300</td>\n",
       "    </tr>\n",
       "    <tr>\n",
       "      <th>2498</th>\n",
       "      <td>9200</td>\n",
       "      <td>nissan</td>\n",
       "      <td>versa</td>\n",
       "      <td>2018</td>\n",
       "      <td>clean vehicle</td>\n",
       "      <td>31371.0</td>\n",
       "      <td>silver</td>\n",
       "      <td>florida</td>\n",
       "      <td>21 hours left</td>\n",
       "      <td>15.545590</td>\n",
       "    </tr>\n",
       "  </tbody>\n",
       "</table>\n",
       "<p>2499 rows × 10 columns</p>\n",
       "</div>"
      ],
      "text/plain": [
       "      price      brand    model  year   title_status   mileage   color  \\\n",
       "0      6300     toyota  cruiser  2008  clean vehicle  274117.0   black   \n",
       "1      2899       ford       se  2011  clean vehicle  190552.0  silver   \n",
       "2      5350      dodge      mpv  2018  clean vehicle   39590.0  silver   \n",
       "3     25000       ford     door  2014  clean vehicle   64146.0    blue   \n",
       "4     27700  chevrolet     1500  2018  clean vehicle    6654.0     red   \n",
       "...     ...        ...      ...   ...            ...       ...     ...   \n",
       "2494   7800     nissan    versa  2019  clean vehicle   23609.0     red   \n",
       "2495   9200     nissan    versa  2018  clean vehicle   34553.0  silver   \n",
       "2496   9200     nissan    versa  2018  clean vehicle   31594.0  silver   \n",
       "2497   9200     nissan    versa  2018  clean vehicle   32557.0   black   \n",
       "2498   9200     nissan    versa  2018  clean vehicle   31371.0  silver   \n",
       "\n",
       "           state      condition         m/y  \n",
       "0     new jersey   10 days left  136.512450  \n",
       "1      tennessee    6 days left   94.754848  \n",
       "2        georgia    2 days left   19.618434  \n",
       "3       virginia  22 hours left   31.850050  \n",
       "4        florida  22 hours left    3.297324  \n",
       "...          ...            ...         ...  \n",
       "2494  california    1 days left   11.693413  \n",
       "2495     florida  21 hours left   17.122398  \n",
       "2496     florida  21 hours left   15.656095  \n",
       "2497     florida    2 days left   16.133300  \n",
       "2498     florida  21 hours left   15.545590  \n",
       "\n",
       "[2499 rows x 10 columns]"
      ]
     },
     "execution_count": 170,
     "metadata": {},
     "output_type": "execute_result"
    }
   ],
   "source": [
    "data1 = pd.read_csv( 'USA_cars_datasets[1].csv')\n",
    "\n",
    "# Columns I could not work with\n",
    "#==============================\n",
    "data1.drop(columns = ['Unnamed: 0', 'vin', 'lot', 'country']  , inplace=True)\n",
    "\n",
    "# added m/y to columns data1\n",
    "#===========================\n",
    "data1['m/y']=data1['mileage']/data1['year']\n",
    "data1"
   ]
  },
  {
   "cell_type": "code",
   "execution_count": 174,
   "metadata": {},
   "outputs": [
    {
     "data": {
      "text/html": [
       "<div>\n",
       "<style scoped>\n",
       "    .dataframe tbody tr th:only-of-type {\n",
       "        vertical-align: middle;\n",
       "    }\n",
       "\n",
       "    .dataframe tbody tr th {\n",
       "        vertical-align: top;\n",
       "    }\n",
       "\n",
       "    .dataframe thead th {\n",
       "        text-align: right;\n",
       "    }\n",
       "</style>\n",
       "<table border=\"1\" class=\"dataframe\">\n",
       "  <thead>\n",
       "    <tr style=\"text-align: right;\">\n",
       "      <th></th>\n",
       "      <th>price</th>\n",
       "      <th>brand</th>\n",
       "      <th>model</th>\n",
       "      <th>year</th>\n",
       "      <th>title_status</th>\n",
       "      <th>mileage</th>\n",
       "      <th>color</th>\n",
       "      <th>state</th>\n",
       "      <th>condition</th>\n",
       "      <th>m/y</th>\n",
       "      <th>time_value</th>\n",
       "      <th>time_obj</th>\n",
       "    </tr>\n",
       "  </thead>\n",
       "  <tbody>\n",
       "    <tr>\n",
       "      <th>0</th>\n",
       "      <td>6300</td>\n",
       "      <td>toyota</td>\n",
       "      <td>cruiser</td>\n",
       "      <td>2008</td>\n",
       "      <td>clean vehicle</td>\n",
       "      <td>274117.0</td>\n",
       "      <td>black</td>\n",
       "      <td>new jersey</td>\n",
       "      <td>10 days left</td>\n",
       "      <td>136.512450</td>\n",
       "      <td>10</td>\n",
       "      <td>days</td>\n",
       "    </tr>\n",
       "    <tr>\n",
       "      <th>1</th>\n",
       "      <td>2899</td>\n",
       "      <td>ford</td>\n",
       "      <td>se</td>\n",
       "      <td>2011</td>\n",
       "      <td>clean vehicle</td>\n",
       "      <td>190552.0</td>\n",
       "      <td>silver</td>\n",
       "      <td>tennessee</td>\n",
       "      <td>6 days left</td>\n",
       "      <td>94.754848</td>\n",
       "      <td>6</td>\n",
       "      <td>days</td>\n",
       "    </tr>\n",
       "    <tr>\n",
       "      <th>2</th>\n",
       "      <td>5350</td>\n",
       "      <td>dodge</td>\n",
       "      <td>mpv</td>\n",
       "      <td>2018</td>\n",
       "      <td>clean vehicle</td>\n",
       "      <td>39590.0</td>\n",
       "      <td>silver</td>\n",
       "      <td>georgia</td>\n",
       "      <td>2 days left</td>\n",
       "      <td>19.618434</td>\n",
       "      <td>2</td>\n",
       "      <td>days</td>\n",
       "    </tr>\n",
       "    <tr>\n",
       "      <th>3</th>\n",
       "      <td>25000</td>\n",
       "      <td>ford</td>\n",
       "      <td>door</td>\n",
       "      <td>2014</td>\n",
       "      <td>clean vehicle</td>\n",
       "      <td>64146.0</td>\n",
       "      <td>blue</td>\n",
       "      <td>virginia</td>\n",
       "      <td>22 hours left</td>\n",
       "      <td>31.850050</td>\n",
       "      <td>22</td>\n",
       "      <td>hours</td>\n",
       "    </tr>\n",
       "    <tr>\n",
       "      <th>4</th>\n",
       "      <td>27700</td>\n",
       "      <td>chevrolet</td>\n",
       "      <td>1500</td>\n",
       "      <td>2018</td>\n",
       "      <td>clean vehicle</td>\n",
       "      <td>6654.0</td>\n",
       "      <td>red</td>\n",
       "      <td>florida</td>\n",
       "      <td>22 hours left</td>\n",
       "      <td>3.297324</td>\n",
       "      <td>22</td>\n",
       "      <td>hours</td>\n",
       "    </tr>\n",
       "    <tr>\n",
       "      <th>...</th>\n",
       "      <td>...</td>\n",
       "      <td>...</td>\n",
       "      <td>...</td>\n",
       "      <td>...</td>\n",
       "      <td>...</td>\n",
       "      <td>...</td>\n",
       "      <td>...</td>\n",
       "      <td>...</td>\n",
       "      <td>...</td>\n",
       "      <td>...</td>\n",
       "      <td>...</td>\n",
       "      <td>...</td>\n",
       "    </tr>\n",
       "    <tr>\n",
       "      <th>2494</th>\n",
       "      <td>7800</td>\n",
       "      <td>nissan</td>\n",
       "      <td>versa</td>\n",
       "      <td>2019</td>\n",
       "      <td>clean vehicle</td>\n",
       "      <td>23609.0</td>\n",
       "      <td>red</td>\n",
       "      <td>california</td>\n",
       "      <td>1 days left</td>\n",
       "      <td>11.693413</td>\n",
       "      <td>1</td>\n",
       "      <td>days</td>\n",
       "    </tr>\n",
       "    <tr>\n",
       "      <th>2495</th>\n",
       "      <td>9200</td>\n",
       "      <td>nissan</td>\n",
       "      <td>versa</td>\n",
       "      <td>2018</td>\n",
       "      <td>clean vehicle</td>\n",
       "      <td>34553.0</td>\n",
       "      <td>silver</td>\n",
       "      <td>florida</td>\n",
       "      <td>21 hours left</td>\n",
       "      <td>17.122398</td>\n",
       "      <td>21</td>\n",
       "      <td>hours</td>\n",
       "    </tr>\n",
       "    <tr>\n",
       "      <th>2496</th>\n",
       "      <td>9200</td>\n",
       "      <td>nissan</td>\n",
       "      <td>versa</td>\n",
       "      <td>2018</td>\n",
       "      <td>clean vehicle</td>\n",
       "      <td>31594.0</td>\n",
       "      <td>silver</td>\n",
       "      <td>florida</td>\n",
       "      <td>21 hours left</td>\n",
       "      <td>15.656095</td>\n",
       "      <td>21</td>\n",
       "      <td>hours</td>\n",
       "    </tr>\n",
       "    <tr>\n",
       "      <th>2497</th>\n",
       "      <td>9200</td>\n",
       "      <td>nissan</td>\n",
       "      <td>versa</td>\n",
       "      <td>2018</td>\n",
       "      <td>clean vehicle</td>\n",
       "      <td>32557.0</td>\n",
       "      <td>black</td>\n",
       "      <td>florida</td>\n",
       "      <td>2 days left</td>\n",
       "      <td>16.133300</td>\n",
       "      <td>2</td>\n",
       "      <td>days</td>\n",
       "    </tr>\n",
       "    <tr>\n",
       "      <th>2498</th>\n",
       "      <td>9200</td>\n",
       "      <td>nissan</td>\n",
       "      <td>versa</td>\n",
       "      <td>2018</td>\n",
       "      <td>clean vehicle</td>\n",
       "      <td>31371.0</td>\n",
       "      <td>silver</td>\n",
       "      <td>florida</td>\n",
       "      <td>21 hours left</td>\n",
       "      <td>15.545590</td>\n",
       "      <td>21</td>\n",
       "      <td>hours</td>\n",
       "    </tr>\n",
       "  </tbody>\n",
       "</table>\n",
       "<p>2499 rows × 12 columns</p>\n",
       "</div>"
      ],
      "text/plain": [
       "      price      brand    model  year   title_status   mileage   color  \\\n",
       "0      6300     toyota  cruiser  2008  clean vehicle  274117.0   black   \n",
       "1      2899       ford       se  2011  clean vehicle  190552.0  silver   \n",
       "2      5350      dodge      mpv  2018  clean vehicle   39590.0  silver   \n",
       "3     25000       ford     door  2014  clean vehicle   64146.0    blue   \n",
       "4     27700  chevrolet     1500  2018  clean vehicle    6654.0     red   \n",
       "...     ...        ...      ...   ...            ...       ...     ...   \n",
       "2494   7800     nissan    versa  2019  clean vehicle   23609.0     red   \n",
       "2495   9200     nissan    versa  2018  clean vehicle   34553.0  silver   \n",
       "2496   9200     nissan    versa  2018  clean vehicle   31594.0  silver   \n",
       "2497   9200     nissan    versa  2018  clean vehicle   32557.0   black   \n",
       "2498   9200     nissan    versa  2018  clean vehicle   31371.0  silver   \n",
       "\n",
       "           state      condition         m/y time_value time_obj  \n",
       "0     new jersey   10 days left  136.512450         10     days  \n",
       "1      tennessee    6 days left   94.754848          6     days  \n",
       "2        georgia    2 days left   19.618434          2     days  \n",
       "3       virginia  22 hours left   31.850050         22    hours  \n",
       "4        florida  22 hours left    3.297324         22    hours  \n",
       "...          ...            ...         ...        ...      ...  \n",
       "2494  california    1 days left   11.693413          1     days  \n",
       "2495     florida  21 hours left   17.122398         21    hours  \n",
       "2496     florida  21 hours left   15.656095         21    hours  \n",
       "2497     florida    2 days left   16.133300          2     days  \n",
       "2498     florida  21 hours left   15.545590         21    hours  \n",
       "\n",
       "[2499 rows x 12 columns]"
      ]
     },
     "execution_count": 174,
     "metadata": {},
     "output_type": "execute_result"
    }
   ],
   "source": [
    "#datadata1['condition'].value_counts()\n",
    "\n",
    "data1['time_value']= data1['condition'] .str.split(' ').str[0]\n",
    "data1['time_obj']= data1['condition'] .str.split(' ').str[1]\n",
    "data1\n"
   ]
  },
  {
   "cell_type": "markdown",
   "metadata": {},
   "source": [
    "># first information\n",
    ">#### unique values  and dtypes\n",
    ">>#### There are differences between data unique values on features mileage , brand , model \n",
    ">#### Statistical summary of data1\n",
    ">>#### Years are from 1973 to 2020 | Average Price of a car= $18767\n"
   ]
  },
  {
   "cell_type": "code",
   "execution_count": 3,
   "metadata": {},
   "outputs": [
    {
     "name": "stdout",
     "output_type": "stream",
     "text": [
      "price            790\n",
      "brand             28\n",
      "model            127\n",
      "year              30\n",
      "title_status       2\n",
      "mileage         2439\n",
      "color             49\n",
      "state             44\n",
      "condition         47\n",
      "m/y             2471\n",
      "dtype: int64 price             int64\n",
      "brand            object\n",
      "model            object\n",
      "year              int64\n",
      "title_status     object\n",
      "mileage         float64\n",
      "color            object\n",
      "state            object\n",
      "condition        object\n",
      "m/y             float64\n",
      "dtype: object\n"
     ]
    }
   ],
   "source": [
    "#Different dtype \n",
    "# unique values defferences\n",
    "#==========================\n",
    "print( data1.nunique() , data1.dtypes )"
   ]
  },
  {
   "cell_type": "code",
   "execution_count": 4,
   "metadata": {},
   "outputs": [
    {
     "data": {
      "text/html": [
       "<div>\n",
       "<style scoped>\n",
       "    .dataframe tbody tr th:only-of-type {\n",
       "        vertical-align: middle;\n",
       "    }\n",
       "\n",
       "    .dataframe tbody tr th {\n",
       "        vertical-align: top;\n",
       "    }\n",
       "\n",
       "    .dataframe thead th {\n",
       "        text-align: right;\n",
       "    }\n",
       "</style>\n",
       "<table border=\"1\" class=\"dataframe\">\n",
       "  <thead>\n",
       "    <tr style=\"text-align: right;\">\n",
       "      <th></th>\n",
       "      <th>price</th>\n",
       "      <th>year</th>\n",
       "      <th>mileage</th>\n",
       "      <th>m/y</th>\n",
       "    </tr>\n",
       "  </thead>\n",
       "  <tbody>\n",
       "    <tr>\n",
       "      <th>count</th>\n",
       "      <td>2499.000000</td>\n",
       "      <td>2499.000000</td>\n",
       "      <td>2.499000e+03</td>\n",
       "      <td>2499.000000</td>\n",
       "    </tr>\n",
       "    <tr>\n",
       "      <th>mean</th>\n",
       "      <td>18767.671469</td>\n",
       "      <td>2016.714286</td>\n",
       "      <td>5.229869e+04</td>\n",
       "      <td>25.962845</td>\n",
       "    </tr>\n",
       "    <tr>\n",
       "      <th>std</th>\n",
       "      <td>12116.094936</td>\n",
       "      <td>3.442656</td>\n",
       "      <td>5.970552e+04</td>\n",
       "      <td>29.713887</td>\n",
       "    </tr>\n",
       "    <tr>\n",
       "      <th>min</th>\n",
       "      <td>0.000000</td>\n",
       "      <td>1973.000000</td>\n",
       "      <td>0.000000e+00</td>\n",
       "      <td>0.000000</td>\n",
       "    </tr>\n",
       "    <tr>\n",
       "      <th>25%</th>\n",
       "      <td>10200.000000</td>\n",
       "      <td>2016.000000</td>\n",
       "      <td>2.146650e+04</td>\n",
       "      <td>10.634871</td>\n",
       "    </tr>\n",
       "    <tr>\n",
       "      <th>50%</th>\n",
       "      <td>16900.000000</td>\n",
       "      <td>2018.000000</td>\n",
       "      <td>3.536500e+04</td>\n",
       "      <td>17.529237</td>\n",
       "    </tr>\n",
       "    <tr>\n",
       "      <th>75%</th>\n",
       "      <td>25555.500000</td>\n",
       "      <td>2019.000000</td>\n",
       "      <td>6.347250e+04</td>\n",
       "      <td>31.507824</td>\n",
       "    </tr>\n",
       "    <tr>\n",
       "      <th>max</th>\n",
       "      <td>84900.000000</td>\n",
       "      <td>2020.000000</td>\n",
       "      <td>1.017936e+06</td>\n",
       "      <td>506.435821</td>\n",
       "    </tr>\n",
       "  </tbody>\n",
       "</table>\n",
       "</div>"
      ],
      "text/plain": [
       "              price         year       mileage          m/y\n",
       "count   2499.000000  2499.000000  2.499000e+03  2499.000000\n",
       "mean   18767.671469  2016.714286  5.229869e+04    25.962845\n",
       "std    12116.094936     3.442656  5.970552e+04    29.713887\n",
       "min        0.000000  1973.000000  0.000000e+00     0.000000\n",
       "25%    10200.000000  2016.000000  2.146650e+04    10.634871\n",
       "50%    16900.000000  2018.000000  3.536500e+04    17.529237\n",
       "75%    25555.500000  2019.000000  6.347250e+04    31.507824\n",
       "max    84900.000000  2020.000000  1.017936e+06   506.435821"
      ]
     },
     "execution_count": 4,
     "metadata": {},
     "output_type": "execute_result"
    }
   ],
   "source": [
    "data1.describe()"
   ]
  },
  {
   "cell_type": "markdown",
   "metadata": {},
   "source": [
    ">###  string_features and  integer_features"
   ]
  },
  {
   "cell_type": "code",
   "execution_count": 5,
   "metadata": {},
   "outputs": [],
   "source": [
    "# string_features or integer_features\n",
    "#====================================\n",
    "\n",
    "string_features=[feature for feature in data1.columns if data1[feature].dtype=='object']\n",
    "intger_features=[feature for feature in data1.columns if data1[feature].dtype!='object']"
   ]
  },
  {
   "cell_type": "markdown",
   "metadata": {},
   "source": [
    ">### plot intger_features ['price', 'year', 'mileage', 'm/y']"
   ]
  },
  {
   "cell_type": "code",
   "execution_count": 6,
   "metadata": {},
   "outputs": [
    {
     "name": "stderr",
     "output_type": "stream",
     "text": [
      "d:\\ProgramData\\Anaconda3\\lib\\site-packages\\seaborn\\distributions.py:2551: FutureWarning: `distplot` is a deprecated function and will be removed in a future version. Please adapt your code to use either `displot` (a figure-level function with similar flexibility) or `histplot` (an axes-level function for histograms).\n",
      "  warnings.warn(msg, FutureWarning)\n",
      "d:\\ProgramData\\Anaconda3\\lib\\site-packages\\seaborn\\distributions.py:2551: FutureWarning: `distplot` is a deprecated function and will be removed in a future version. Please adapt your code to use either `displot` (a figure-level function with similar flexibility) or `histplot` (an axes-level function for histograms).\n",
      "  warnings.warn(msg, FutureWarning)\n",
      "d:\\ProgramData\\Anaconda3\\lib\\site-packages\\seaborn\\distributions.py:2551: FutureWarning: `distplot` is a deprecated function and will be removed in a future version. Please adapt your code to use either `displot` (a figure-level function with similar flexibility) or `histplot` (an axes-level function for histograms).\n",
      "  warnings.warn(msg, FutureWarning)\n",
      "d:\\ProgramData\\Anaconda3\\lib\\site-packages\\seaborn\\distributions.py:2551: FutureWarning: `distplot` is a deprecated function and will be removed in a future version. Please adapt your code to use either `displot` (a figure-level function with similar flexibility) or `histplot` (an axes-level function for histograms).\n",
      "  warnings.warn(msg, FutureWarning)\n"
     ]
    },
    {
     "data": {
      "image/png": "[encoded data removed]",
      "text/plain": [
       "<Figure size 1728x360 with 4 Axes>"
      ]
     },
     "metadata": {
      "needs_background": "light"
     },
     "output_type": "display_data"
    }
   ],
   "source": [
    "# plot \n",
    "#=====\n",
    "fig, axes = plt.subplots( 1,4 , figsize=(24, 5))\n",
    "int_f_plot = [sns.distplot(data1[n], ax=axes[i]) for i , n in enumerate (intger_features)]"
   ]
  },
  {
   "cell_type": "code",
   "execution_count": 7,
   "metadata": {},
   "outputs": [
    {
     "data": {
      "image/png": "[encoded data removed]",
      "text/plain": [
       "<Figure size 1728x360 with 4 Axes>"
      ]
     },
     "metadata": {
      "needs_background": "light"
     },
     "output_type": "display_data"
    }
   ],
   "source": [
    "# string features values - plot\n",
    "#==============================\n",
    "color = data1['color'].value_counts()\n",
    "brand = data1['brand'].value_counts()\n",
    "model = data1['model'].value_counts()\n",
    "state = data1['state'].value_counts()\n",
    "\n",
    "fig , axes = plt.subplots(1,4, figsize=(24, 5))\n",
    "list_a = [color ,brand , model , state]\n",
    "for i , c in enumerate(list_a):\n",
    "    pd.Series(c).head(5).plot(kind= 'bar' ,  ax=axes[i] , color=['#72d2f9','#14f5dd','#fbfa88','#fb80ba','#a5fcb3'])"
   ]
  },
  {
   "cell_type": "markdown",
   "metadata": {},
   "source": [
    "| feature | result                                                     |\n",
    "|-------  |------------------------------------------------------------|                                \n",
    "| color  |   white followed by black are most faverit color cars in US |\n",
    "| brand  | ' Ford' followed by dodge are most popular cars in US       |\n",
    "| model  |  'door' is  most popular cars model in US                   |    \n",
    "| state  |   pennsylvani                                                |"
   ]
  },
  {
   "cell_type": "markdown",
   "metadata": {},
   "source": [
    ">### Correlation | heatmap Correlation and  Triangle Correlation Heatmap"
   ]
  },
  {
   "cell_type": "code",
   "execution_count": 17,
   "metadata": {},
   "outputs": [
    {
     "data": {
      "image/png": "[encoded data removed]",
      "text/plain": [
       "<Figure size 1440x360 with 4 Axes>"
      ]
     },
     "metadata": {
      "needs_background": "light"
     },
     "output_type": "display_data"
    }
   ],
   "source": [
    "fig, axes = plt.subplots(1,2, figsize=(20, 5))\n",
    "\n",
    "#heatmap corrolation\n",
    "import seaborn as sns\n",
    "heatmap = sns.heatmap(data1.corr(), ax=axes[0] , vmin=-1, vmax=1, annot=True ,cmap=\"YlGnBu\")\n",
    "heatmap.set_title('Correlation Heatmap' , fontdict={'fontsize':12}, pad=12);\n",
    "\n",
    "# triangle corrolation\n",
    "mask = np.triu(np.ones_like(data1.corr(), dtype=np.bool))\n",
    "heatmap = sns.heatmap(data1.corr(),  vmin=-1, vmax=1, mask =mask , annot=True, cmap=\"Blues\")\n",
    "heatmap.set_title('Triangle Correlation Heatmap', fontdict={'fontsize':18}, pad=16);"
   ]
  },
  {
   "cell_type": "markdown",
   "metadata": {},
   "source": [
    ">#### 1) Brand - Price .mean() Visualization\n",
    ">#### 2) Model - Price .mean() Visualization\n",
    ">#### 3) Year - Price .mean() Visualization\n",
    ">#### 4) Color - Price .mean() Visualization\n",
    ">#### 5) State - Price .mean() Visualization\n",
    "\n"
   ]
  },
  {
   "cell_type": "code",
   "execution_count": 32,
   "metadata": {},
   "outputs": [
    {
     "data": {
      "text/plain": [
       "[<AxesSubplot:xlabel='brand'>, <AxesSubplot:xlabel='color'>]"
      ]
     },
     "execution_count": 32,
     "metadata": {},
     "output_type": "execute_result"
    },
    {
     "data": {
      "image/png": "[encoded data removed]",
      "text/plain": [
       "<Figure size 1440x216 with 2 Axes>"
      ]
     },
     "metadata": {
      "needs_background": "light"
     },
     "output_type": "display_data"
    }
   ],
   "source": [
    "fig, axes = plt.subplots(1,2, figsize=(20, 3))\n",
    "list_a=['brand', 'color' ]\n",
    "[data1.groupby([c]).price.mean().plot(kind='bar' ,color='#72d2f9',  ax=axes[i])  for i, c in enumerate (list_a)]\n",
    "# fontsize ?????????"
   ]
  },
  {
   "cell_type": "code",
   "execution_count": 38,
   "metadata": {},
   "outputs": [
    {
     "data": {
      "text/plain": [
       "<AxesSubplot:xlabel='model'>"
      ]
     },
     "execution_count": 38,
     "metadata": {},
     "output_type": "execute_result"
    },
    {
     "data": {
      "image/png": "[encoded data removed]",
      "text/plain": [
       "<Figure size 1440x216 with 1 Axes>"
      ]
     },
     "metadata": {
      "needs_background": "light"
     },
     "output_type": "display_data"
    }
   ],
   "source": [
    "fig, axes = plt.subplots( figsize=(20, 3))\n",
    "data1.groupby(['model']).price.mean().plot(kind='bar' ,color='#72d2f9' )"
   ]
  },
  {
   "cell_type": "markdown",
   "metadata": {},
   "source": [
    "-----------------------------------------------------------------------------------------------------------------------"
   ]
  },
  {
   "cell_type": "code",
   "execution_count": 41,
   "metadata": {},
   "outputs": [],
   "source": [
    "# string_features or integer_features\n",
    "\n",
    "string_features=[feature for feature in data1.columns if data1[feature].dtype=='object']\n",
    "intger_features=[feature for feature in data1.columns if data1[feature].dtype!='object']"
   ]
  },
  {
   "cell_type": "code",
   "execution_count": 42,
   "metadata": {},
   "outputs": [],
   "source": [
    "data1[\"brand\"] = [1 if i == \"ford\" else 2 if i == \"dodge\" else 3 for i in data1[\"brand\"]]\n",
    "data1[\"model\"] = [1 if i == \"door\" else 2 if i == \"f-150\" else 3 for i in data1[\"model\"]]\n",
    "data1[\"color\"] = [1 if i == \"white\" else 2 if i == \"black\" else 3 for i in data1[\"color\"]]\n",
    "data1[\"state\"] = [1 if i == \"pennsylvania\" else 2 if i == \"florida\" else 3 for i in data1[\"state\"]]\n",
    "data1[\"title_status\"] = [1 if i == \"cleanvehicle\" else 2 if i == \"salvageinsurance\" else 3 for i in data1[\"title_status\"]]\n",
    "data1['condition']= data1['condition'] .str.split(' ').str[0]\n",
    "\n",
    "\n",
    "\n",
    "data1['year'] = data1['year'].apply( lambda year : 2021-year )\n"
   ]
  },
  {
   "cell_type": "code",
   "execution_count": 43,
   "metadata": {},
   "outputs": [
    {
     "data": {
      "text/html": [
       "<div>\n",
       "<style scoped>\n",
       "    .dataframe tbody tr th:only-of-type {\n",
       "        vertical-align: middle;\n",
       "    }\n",
       "\n",
       "    .dataframe tbody tr th {\n",
       "        vertical-align: top;\n",
       "    }\n",
       "\n",
       "    .dataframe thead th {\n",
       "        text-align: right;\n",
       "    }\n",
       "</style>\n",
       "<table border=\"1\" class=\"dataframe\">\n",
       "  <thead>\n",
       "    <tr style=\"text-align: right;\">\n",
       "      <th></th>\n",
       "      <th>price</th>\n",
       "      <th>brand</th>\n",
       "      <th>model</th>\n",
       "      <th>year</th>\n",
       "      <th>title_status</th>\n",
       "      <th>mileage</th>\n",
       "      <th>color</th>\n",
       "      <th>state</th>\n",
       "      <th>condition</th>\n",
       "      <th>m/y</th>\n",
       "    </tr>\n",
       "  </thead>\n",
       "  <tbody>\n",
       "    <tr>\n",
       "      <th>0</th>\n",
       "      <td>6300</td>\n",
       "      <td>3</td>\n",
       "      <td>3</td>\n",
       "      <td>13</td>\n",
       "      <td>3</td>\n",
       "      <td>274117.0</td>\n",
       "      <td>2</td>\n",
       "      <td>3</td>\n",
       "      <td>10</td>\n",
       "      <td>136.512450</td>\n",
       "    </tr>\n",
       "    <tr>\n",
       "      <th>1</th>\n",
       "      <td>2899</td>\n",
       "      <td>1</td>\n",
       "      <td>3</td>\n",
       "      <td>10</td>\n",
       "      <td>3</td>\n",
       "      <td>190552.0</td>\n",
       "      <td>3</td>\n",
       "      <td>3</td>\n",
       "      <td>6</td>\n",
       "      <td>94.754848</td>\n",
       "    </tr>\n",
       "    <tr>\n",
       "      <th>2</th>\n",
       "      <td>5350</td>\n",
       "      <td>2</td>\n",
       "      <td>3</td>\n",
       "      <td>3</td>\n",
       "      <td>3</td>\n",
       "      <td>39590.0</td>\n",
       "      <td>3</td>\n",
       "      <td>3</td>\n",
       "      <td>2</td>\n",
       "      <td>19.618434</td>\n",
       "    </tr>\n",
       "    <tr>\n",
       "      <th>3</th>\n",
       "      <td>25000</td>\n",
       "      <td>1</td>\n",
       "      <td>1</td>\n",
       "      <td>7</td>\n",
       "      <td>3</td>\n",
       "      <td>64146.0</td>\n",
       "      <td>3</td>\n",
       "      <td>3</td>\n",
       "      <td>22</td>\n",
       "      <td>31.850050</td>\n",
       "    </tr>\n",
       "    <tr>\n",
       "      <th>4</th>\n",
       "      <td>27700</td>\n",
       "      <td>3</td>\n",
       "      <td>3</td>\n",
       "      <td>3</td>\n",
       "      <td>3</td>\n",
       "      <td>6654.0</td>\n",
       "      <td>3</td>\n",
       "      <td>2</td>\n",
       "      <td>22</td>\n",
       "      <td>3.297324</td>\n",
       "    </tr>\n",
       "    <tr>\n",
       "      <th>...</th>\n",
       "      <td>...</td>\n",
       "      <td>...</td>\n",
       "      <td>...</td>\n",
       "      <td>...</td>\n",
       "      <td>...</td>\n",
       "      <td>...</td>\n",
       "      <td>...</td>\n",
       "      <td>...</td>\n",
       "      <td>...</td>\n",
       "      <td>...</td>\n",
       "    </tr>\n",
       "    <tr>\n",
       "      <th>2494</th>\n",
       "      <td>7800</td>\n",
       "      <td>3</td>\n",
       "      <td>3</td>\n",
       "      <td>2</td>\n",
       "      <td>3</td>\n",
       "      <td>23609.0</td>\n",
       "      <td>3</td>\n",
       "      <td>3</td>\n",
       "      <td>1</td>\n",
       "      <td>11.693413</td>\n",
       "    </tr>\n",
       "    <tr>\n",
       "      <th>2495</th>\n",
       "      <td>9200</td>\n",
       "      <td>3</td>\n",
       "      <td>3</td>\n",
       "      <td>3</td>\n",
       "      <td>3</td>\n",
       "      <td>34553.0</td>\n",
       "      <td>3</td>\n",
       "      <td>2</td>\n",
       "      <td>21</td>\n",
       "      <td>17.122398</td>\n",
       "    </tr>\n",
       "    <tr>\n",
       "      <th>2496</th>\n",
       "      <td>9200</td>\n",
       "      <td>3</td>\n",
       "      <td>3</td>\n",
       "      <td>3</td>\n",
       "      <td>3</td>\n",
       "      <td>31594.0</td>\n",
       "      <td>3</td>\n",
       "      <td>2</td>\n",
       "      <td>21</td>\n",
       "      <td>15.656095</td>\n",
       "    </tr>\n",
       "    <tr>\n",
       "      <th>2497</th>\n",
       "      <td>9200</td>\n",
       "      <td>3</td>\n",
       "      <td>3</td>\n",
       "      <td>3</td>\n",
       "      <td>3</td>\n",
       "      <td>32557.0</td>\n",
       "      <td>2</td>\n",
       "      <td>2</td>\n",
       "      <td>2</td>\n",
       "      <td>16.133300</td>\n",
       "    </tr>\n",
       "    <tr>\n",
       "      <th>2498</th>\n",
       "      <td>9200</td>\n",
       "      <td>3</td>\n",
       "      <td>3</td>\n",
       "      <td>3</td>\n",
       "      <td>3</td>\n",
       "      <td>31371.0</td>\n",
       "      <td>3</td>\n",
       "      <td>2</td>\n",
       "      <td>21</td>\n",
       "      <td>15.545590</td>\n",
       "    </tr>\n",
       "  </tbody>\n",
       "</table>\n",
       "<p>2499 rows × 10 columns</p>\n",
       "</div>"
      ],
      "text/plain": [
       "      price  brand  model  year  title_status   mileage  color  state  \\\n",
       "0      6300      3      3    13             3  274117.0      2      3   \n",
       "1      2899      1      3    10             3  190552.0      3      3   \n",
       "2      5350      2      3     3             3   39590.0      3      3   \n",
       "3     25000      1      1     7             3   64146.0      3      3   \n",
       "4     27700      3      3     3             3    6654.0      3      2   \n",
       "...     ...    ...    ...   ...           ...       ...    ...    ...   \n",
       "2494   7800      3      3     2             3   23609.0      3      3   \n",
       "2495   9200      3      3     3             3   34553.0      3      2   \n",
       "2496   9200      3      3     3             3   31594.0      3      2   \n",
       "2497   9200      3      3     3             3   32557.0      2      2   \n",
       "2498   9200      3      3     3             3   31371.0      3      2   \n",
       "\n",
       "     condition         m/y  \n",
       "0           10  136.512450  \n",
       "1            6   94.754848  \n",
       "2            2   19.618434  \n",
       "3           22   31.850050  \n",
       "4           22    3.297324  \n",
       "...        ...         ...  \n",
       "2494         1   11.693413  \n",
       "2495        21   17.122398  \n",
       "2496        21   15.656095  \n",
       "2497         2   16.133300  \n",
       "2498        21   15.545590  \n",
       "\n",
       "[2499 rows x 10 columns]"
      ]
     },
     "execution_count": 43,
     "metadata": {},
     "output_type": "execute_result"
    }
   ],
   "source": [
    "data1"
   ]
  },
  {
   "cell_type": "code",
   "execution_count": 45,
   "metadata": {},
   "outputs": [
    {
     "data": {
      "image/png": "[encoded data removed]",
      "text/plain": [
       "<Figure size 1440x360 with 4 Axes>"
      ]
     },
     "metadata": {
      "needs_background": "light"
     },
     "output_type": "display_data"
    }
   ],
   "source": [
    "fig, axes = plt.subplots(1,2, figsize=(20, 5))\n",
    "\n",
    "#heatmap corrolation\n",
    "import seaborn as sns\n",
    "heatmap = sns.heatmap(data1.corr(), ax=axes[0] , vmin=-1, vmax=1, annot=True ,cmap=\"YlGnBu\")\n",
    "heatmap.set_title('Correlation Heatmap' , fontdict={'fontsize':12}, pad=12);\n",
    "\n",
    "# triangle corrolation\n",
    "mask = np.triu(np.ones_like(data1.corr(), dtype=np.bool))\n",
    "heatmap = sns.heatmap(data1.corr(),  vmin=-1, vmax=1, mask =mask , annot=True, cmap=\"Blues\")\n",
    "heatmap.set_title('Triangle Correlation Heatmap', fontdict={'fontsize':18}, pad=16);\n",
    "\n",
    "#titile_statuse???????"
   ]
  },
  {
   "cell_type": "markdown",
   "metadata": {},
   "source": [
    "-------------------------------------------------------------------------------------------------------------------------------------------"
   ]
  },
  {
   "cell_type": "markdown",
   "metadata": {},
   "source": [
    ">### knn"
   ]
  },
  {
   "cell_type": "code",
   "execution_count": 48,
   "metadata": {},
   "outputs": [],
   "source": [
    "X=data1.drop(['price','condition'] ,axis=1)\n",
    "y=data1['price']"
   ]
  },
  {
   "cell_type": "code",
   "execution_count": 52,
   "metadata": {},
   "outputs": [
    {
     "name": "stdout",
     "output_type": "stream",
     "text": [
      "(1874, 8) (625, 8) (1874,) (625,)\n"
     ]
    }
   ],
   "source": [
    "X_train, X_test, y_train, y_test = train_test_split(X.to_numpy(), y.to_numpy(), random_state=500)\n",
    "print(  X_train.shape , X_test.shape , y_train.shape , y_test.shape  )"
   ]
  },
  {
   "cell_type": "code",
   "execution_count": 53,
   "metadata": {},
   "outputs": [],
   "source": [
    "knn_reg = KNeighborsRegressor(n_neighbors=200)"
   ]
  },
  {
   "cell_type": "code",
   "execution_count": 54,
   "metadata": {},
   "outputs": [
    {
     "data": {
      "text/plain": [
       "KNeighborsRegressor(n_neighbors=200)"
      ]
     },
     "execution_count": 54,
     "metadata": {},
     "output_type": "execute_result"
    }
   ],
   "source": [
    "knn_reg.fit(X_train, y_train)"
   ]
  },
  {
   "cell_type": "code",
   "execution_count": 55,
   "metadata": {},
   "outputs": [
    {
     "data": {
      "text/plain": [
       "0.24752367363380956"
      ]
     },
     "execution_count": 55,
     "metadata": {},
     "output_type": "execute_result"
    }
   ],
   "source": [
    "knn_reg.score(X_train, y_train)"
   ]
  },
  {
   "cell_type": "code",
   "execution_count": 56,
   "metadata": {},
   "outputs": [
    {
     "data": {
      "text/plain": [
       "0.299537725687298"
      ]
     },
     "execution_count": 56,
     "metadata": {},
     "output_type": "execute_result"
    }
   ],
   "source": [
    "knn_reg.score(X_test, y_test)"
   ]
  },
  {
   "cell_type": "markdown",
   "metadata": {},
   "source": [
    ">### linear model"
   ]
  },
  {
   "cell_type": "code",
   "execution_count": 47,
   "metadata": {},
   "outputs": [],
   "source": [
    "from sklearn.linear_model import LinearRegression"
   ]
  },
  {
   "cell_type": "code",
   "execution_count": 57,
   "metadata": {},
   "outputs": [],
   "source": [
    "X=data1.drop(['price','condition'] ,axis=1)\n",
    "y=data1['price']"
   ]
  },
  {
   "cell_type": "code",
   "execution_count": 59,
   "metadata": {},
   "outputs": [
    {
     "name": "stdout",
     "output_type": "stream",
     "text": [
      "(1874, 8) (625, 8) (1874,) (625,)\n"
     ]
    }
   ],
   "source": [
    "X_train, X_test, y_train, y_test = train_test_split(X.to_numpy(), y.to_numpy(), random_state=500)\n",
    "print(  X_train.shape , X_test.shape , y_train.shape , y_test.shape  )"
   ]
  },
  {
   "cell_type": "code",
   "execution_count": 60,
   "metadata": {},
   "outputs": [
    {
     "data": {
      "text/plain": [
       "LinearRegression()"
      ]
     },
     "execution_count": 60,
     "metadata": {},
     "output_type": "execute_result"
    }
   ],
   "source": [
    "l_reg = LinearRegression()\n",
    "l_reg.fit(X_train, y_train)"
   ]
  },
  {
   "cell_type": "code",
   "execution_count": 61,
   "metadata": {},
   "outputs": [
    {
     "data": {
      "text/plain": [
       "array([-3.05280777e+03,  8.45944132e+02, -1.26767094e+03,  2.27373675e-12,\n",
       "       -1.18495229e+01, -6.04179529e+02, -6.94736723e+02,  2.37495142e+04])"
      ]
     },
     "execution_count": 61,
     "metadata": {},
     "output_type": "execute_result"
    }
   ],
   "source": [
    "l_reg.coef_"
   ]
  },
  {
   "cell_type": "code",
   "execution_count": 62,
   "metadata": {},
   "outputs": [
    {
     "data": {
      "text/plain": [
       "34070.10599050956"
      ]
     },
     "execution_count": 62,
     "metadata": {},
     "output_type": "execute_result"
    }
   ],
   "source": [
    "l_reg.intercept_"
   ]
  },
  {
   "cell_type": "code",
   "execution_count": 63,
   "metadata": {},
   "outputs": [
    {
     "data": {
      "text/plain": [
       "0.269502283166986"
      ]
     },
     "execution_count": 63,
     "metadata": {},
     "output_type": "execute_result"
    }
   ],
   "source": [
    "l_reg.score(X_train, y_train)"
   ]
  },
  {
   "cell_type": "code",
   "execution_count": 64,
   "metadata": {},
   "outputs": [
    {
     "data": {
      "text/plain": [
       "0.3554528518452895"
      ]
     },
     "execution_count": 64,
     "metadata": {},
     "output_type": "execute_result"
    }
   ],
   "source": [
    "l_reg.score(X_test, y_test)"
   ]
  },
  {
   "cell_type": "markdown",
   "metadata": {},
   "source": [
    "-------------------------------------------------------------------------------------------------------------------------------------------"
   ]
  },
  {
   "cell_type": "markdown",
   "metadata": {},
   "source": [
    ">### Ridge"
   ]
  },
  {
   "cell_type": "code",
   "execution_count": 67,
   "metadata": {},
   "outputs": [],
   "source": [
    "from sklearn.linear_model import Ridge\n",
    "X=data1.drop(['price','condition'] ,axis=1)\n",
    "y=data1['price']"
   ]
  },
  {
   "cell_type": "code",
   "execution_count": 68,
   "metadata": {},
   "outputs": [
    {
     "name": "stdout",
     "output_type": "stream",
     "text": [
      "(1874, 8) (625, 8) (1874,) (625,)\n"
     ]
    }
   ],
   "source": [
    "X_train, X_test, y_train, y_test = train_test_split(X.to_numpy(), y.to_numpy(), random_state=500)\n",
    "print(  X_train.shape , X_test.shape , y_train.shape , y_test.shape  )"
   ]
  },
  {
   "cell_type": "code",
   "execution_count": 69,
   "metadata": {},
   "outputs": [
    {
     "data": {
      "text/plain": [
       "Ridge()"
      ]
     },
     "execution_count": 69,
     "metadata": {},
     "output_type": "execute_result"
    }
   ],
   "source": [
    "l_ridge = Ridge()\n",
    "l_ridge.fit(X_train, y_train)"
   ]
  },
  {
   "cell_type": "code",
   "execution_count": 70,
   "metadata": {},
   "outputs": [
    {
     "data": {
      "text/plain": [
       "0.26930670191893025"
      ]
     },
     "execution_count": 70,
     "metadata": {},
     "output_type": "execute_result"
    }
   ],
   "source": [
    "l_ridge.score(X_train, y_train)"
   ]
  },
  {
   "cell_type": "markdown",
   "metadata": {},
   "source": [
    "l_ridge.score(X_test, y_test)"
   ]
  },
  {
   "cell_type": "code",
   "execution_count": 86,
   "metadata": {},
   "outputs": [
    {
     "name": "stdout",
     "output_type": "stream",
     "text": [
      "0.26453891788079176\n",
      "0.3489407698554461\n"
     ]
    }
   ],
   "source": [
    "l_ridge10 = Ridge(alpha=10)\n",
    "l_ridge10.fit(X_train, y_train)\n",
    "print(l_ridge10.score(X_train, y_train))\n",
    "print(l_ridge10.score(X_test, y_test))"
   ]
  },
  {
   "cell_type": "markdown",
   "metadata": {},
   "source": [
    "-------------------------------------------------------------------------------------------------------------------------------------------"
   ]
  },
  {
   "cell_type": "markdown",
   "metadata": {},
   "source": [
    ">###  Gradiant boosting regressor"
   ]
  },
  {
   "cell_type": "code",
   "execution_count": 144,
   "metadata": {},
   "outputs": [
    {
     "name": "stdout",
     "output_type": "stream",
     "text": [
      "(1874, 8) (625, 8) (1874,) (625,)\n"
     ]
    }
   ],
   "source": [
    "from sklearn.ensemble import GradientBoostingRegressor\n",
    "X=data1.drop(['price','condition'] ,axis=1)\n",
    "y=data1['price']\n",
    "\n",
    "X_train, X_test, y_train, y_test = train_test_split(X.to_numpy(), y.to_numpy(), random_state=100)\n",
    "print(  X_train.shape , X_test.shape , y_train.shape , y_test.shape  )\n"
   ]
  },
  {
   "cell_type": "code",
   "execution_count": 151,
   "metadata": {},
   "outputs": [
    {
     "name": "stdout",
     "output_type": "stream",
     "text": [
      "0.5281860671656718\n",
      "0.36034578643745585\n"
     ]
    }
   ],
   "source": [
    "gr_boost = GradientBoostingRegressor(  n_estimators=150,learning_rate=0.1  , max_depth=3)\n",
    "gr_boost.fit(X_train, y_train)\n",
    "print(gr_boost.score(X_train, y_train))\n",
    "print(gr_boost.score(X_test, y_test))"
   ]
  },
  {
   "cell_type": "code",
   "execution_count": 156,
   "metadata": {},
   "outputs": [
    {
     "name": "stdout",
     "output_type": "stream",
     "text": [
      "0.7130978622846833\n",
      "0.30619242103845\n"
     ]
    }
   ],
   "source": [
    "gr_boost = GradientBoostingRegressor(  n_estimators=500,learning_rate=0.1  , max_depth=3 )\n",
    "gr_boost.fit(X_train, y_train)\n",
    "print(gr_boost.score(X_train, y_train))\n",
    "print(gr_boost.score(X_test, y_test))"
   ]
  },
  {
   "cell_type": "code",
   "execution_count": 166,
   "metadata": {},
   "outputs": [
    {
     "name": "stdout",
     "output_type": "stream",
     "text": [
      "Gradiant boosting regressor\n",
      "0.7130978622846833\n",
      "0.3091589623207962\n",
      "\n",
      "\n",
      "Ridge\n",
      "0.27359853611993445\n",
      "0.3157040762051172\n",
      "\n",
      "\n",
      "linearmodel\n",
      "0.2787772524055744\n",
      "0.3214583100946813\n"
     ]
    }
   ],
   "source": [
    "print('Gradiant boosting regressor')\n",
    "print(gr_boost.score(X_train, y_train))\n",
    "print(gr_boost.score(X_test, y_test))\n",
    "print('\\n')\n",
    "print('Ridge')\n",
    "print(l_ridge10.score(X_train, y_train))\n",
    "print(l_ridge10.score(X_test, y_test))\n",
    "print('\\n')\n",
    "print('linearmodel')\n",
    "print(l_reg.score(X_train, y_train))\n",
    "print(l_reg.score(X_test, y_test))\n",
    "\n"
   ]
  },
  {
   "cell_type": "code",
   "execution_count": null,
   "metadata": {},
   "outputs": [],
   "source": [
    "\n"
   ]
  }
 ],
 "metadata": {
  "kernelspec": {
   "display_name": "Python 3",
   "language": "python",
   "name": "python3"
  },
  "language_info": {
   "codemirror_mode": {
    "name": "ipython",
    "version": 3
   },
   "file_extension": ".py",
   "mimetype": "text/x-python",
   "name": "python",
   "nbconvert_exporter": "python",
   "pygments_lexer": "ipython3",
   "version": "3.8.8"
  }
 },
 "nbformat": 4,
 "nbformat_minor": 4
}
